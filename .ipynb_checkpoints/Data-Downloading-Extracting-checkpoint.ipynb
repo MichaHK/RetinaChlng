{
 "cells": [
  {
   "cell_type": "code",
   "execution_count": null,
   "metadata": {},
   "outputs": [],
   "source": [
    "BaseFolder = Path.cwd()\n",
    "DataFolder = BaseFolder/'Data'\n",
    "DataFolder.mkdir(parents=True, exist_ok=True)\n",
    "DataFolder"
   ]
  },
  {
   "cell_type": "code",
   "execution_count": null,
   "metadata": {},
   "outputs": [],
   "source": [
    "DataFolder.as_posix()"
   ]
  },
  {
   "cell_type": "markdown",
   "metadata": {},
   "source": [
    "The data is on https://drive.grand-challenge.org/Download/. First you need to sign in and join. \n",
    "Then, in Chrome \"More tools\", go to \"developer mode\". Click on the link in the regular webpage. In the developer mode pane, right click on the file, and select copy cURL (bash). \n",
    "\n",
    "in cmd:\n",
    "$ wsl \\{whatever is copied\\} -O -J\n",
    "The -O to keep remote filenme.\n",
    "The -J to preserve headers. "
   ]
  },
  {
   "cell_type": "markdown",
   "metadata": {},
   "source": [
    "PROBLEM! will save in current directory. Try \n",
    "(cd TARGET_DIRECTORY && curl ...) which will only work for linux. In windows, the wsl has problmes with the folder names and this think would not work!"
   ]
  },
  {
   "cell_type": "code",
   "execution_count": null,
   "metadata": {},
   "outputs": [],
   "source": [
    "! wsl curl 'https://grand-challenge.org/media/drive/datasets/training.zip' -H 'authority: grand-challenge.org' -H 'upgrade-insecure-requests: 1' -H 'dnt: 1' -H 'user-agent: Mozilla/5.0 (Windows NT 10.0; Win64; x64) AppleWebKit/537.36 (KHTML, like Gecko) Chrome/78.0.3904.108 Safari/537.36' -H 'sec-fetch-user: ?1' -H 'accept: text/html,application/xhtml+xml,application/xml;q=0.9,image/webp,image/apng,*/*;q=0.8,application/signed-exchange;v=b3' -H 'sec-fetch-site: same-site' -H 'sec-fetch-mode: navigate' -H 'referer: https://drive.grand-challenge.org/Download/' -H 'accept-encoding: gzip, deflate, br' -H 'accept-language: en-US,en;q=0.9,he;q=0.8' -H 'cookie: _ga=GA1.2.1565214317.1576505279; _gid=GA1.2.953096119.1576505279; csrftoken=DndYhrBm0rFslO4XYaF491J4s4KmW4NL4YeRaqEj5b9MOTG9TwzxvBiP8LECxJdc; sessionid=y0mfptew573i5wdm45bvi6j9f7t6vfz0' --compressed -O -J\n",
    "! wsl curl 'https://grand-challenge.org/media/drive/datasets/test.zip' -H 'authority: grand-challenge.org' -H 'upgrade-insecure-requests: 1' -H 'dnt: 1' -H 'user-agent: Mozilla/5.0 (Windows NT 10.0; Win64; x64) AppleWebKit/537.36 (KHTML, like Gecko) Chrome/78.0.3904.108 Safari/537.36' -H 'sec-fetch-user: ?1' -H 'accept: text/html,application/xhtml+xml,application/xml;q=0.9,image/webp,image/apng,*/*;q=0.8,application/signed-exchange;v=b3' -H 'sec-fetch-site: same-site' -H 'sec-fetch-mode: navigate' -H 'referer: https://drive.grand-challenge.org/Download/' -H 'accept-encoding: gzip, deflate, br' -H 'accept-language: en-US,en;q=0.9,he;q=0.8' -H 'cookie: _ga=GA1.2.1565214317.1576505279; _gid=GA1.2.953096119.1576505279; csrftoken=DndYhrBm0rFslO4XYaF491J4s4KmW4NL4YeRaqEj5b9MOTG9TwzxvBiP8LECxJdc; sessionid=y0mfptew573i5wdm45bvi6j9f7t6vfz0' --compressed -O -J"
   ]
  },
  {
   "cell_type": "code",
   "execution_count": null,
   "metadata": {},
   "outputs": [],
   "source": [
    "## For Linux:\n",
    "# ! (cd {DataFolder.as_posix()} && curl 'https://grand-challenge.org/media/drive/datasets/training.zip' -H 'authority: grand-challenge.org' -H 'upgrade-insecure-requests: 1' -H 'dnt: 1' -H 'user-agent: Mozilla/5.0 (Windows NT 10.0; Win64; x64) AppleWebKit/537.36 (KHTML, like Gecko) Chrome/78.0.3904.108 Safari/537.36' -H 'sec-fetch-user: ?1' -H 'accept: text/html,application/xhtml+xml,application/xml;q=0.9,image/webp,image/apng,*/*;q=0.8,application/signed-exchange;v=b3' -H 'sec-fetch-site: same-site' -H 'sec-fetch-mode: navigate' -H 'referer: https://drive.grand-challenge.org/Download/' -H 'accept-encoding: gzip, deflate, br' -H 'accept-language: en-US,en;q=0.9,he;q=0.8' -H 'cookie: _ga=GA1.2.1565214317.1576505279; _gid=GA1.2.953096119.1576505279; csrftoken=DndYhrBm0rFslO4XYaF491J4s4KmW4NL4YeRaqEj5b9MOTG9TwzxvBiP8LECxJdc; sessionid=y0mfptew573i5wdm45bvi6j9f7t6vfz0' --compressed -O -J)\n",
    "# ! (cd {DataFolder.as_posix()} && curl 'https://grand-challenge.org/media/drive/datasets/test.zip' -H 'authority: grand-challenge.org' -H 'upgrade-insecure-requests: 1' -H 'dnt: 1' -H 'user-agent: Mozilla/5.0 (Windows NT 10.0; Win64; x64) AppleWebKit/537.36 (KHTML, like Gecko) Chrome/78.0.3904.108 Safari/537.36' -H 'sec-fetch-user: ?1' -H 'accept: text/html,application/xhtml+xml,application/xml;q=0.9,image/webp,image/apng,*/*;q=0.8,application/signed-exchange;v=b3' -H 'sec-fetch-site: same-site' -H 'sec-fetch-mode: navigate' -H 'referer: https://drive.grand-challenge.org/Download/' -H 'accept-encoding: gzip, deflate, br' -H 'accept-language: en-US,en;q=0.9,he;q=0.8' -H 'cookie: _ga=GA1.2.1565214317.1576505279; _gid=GA1.2.953096119.1576505279; csrftoken=DndYhrBm0rFslO4XYaF491J4s4KmW4NL4YeRaqEj5b9MOTG9TwzxvBiP8LECxJdc; sessionid=y0mfptew573i5wdm45bvi6j9f7t6vfz0' --compressed -O -J)"
   ]
  },
  {
   "cell_type": "code",
   "execution_count": null,
   "metadata": {},
   "outputs": [],
   "source": [
    "## For Linux:\n",
    "# if not previously installed:\n",
    "# ! sudo apt-get install p7zip-full\n",
    "! 7z x {DataFolder}/*.zip"
   ]
  }
 ],
 "metadata": {
  "kernelspec": {
   "display_name": "Python [conda env:torch] *",
   "language": "python",
   "name": "conda-env-torch-py"
  },
  "language_info": {
   "codemirror_mode": {
    "name": "ipython",
    "version": 3
   },
   "file_extension": ".py",
   "mimetype": "text/x-python",
   "name": "python",
   "nbconvert_exporter": "python",
   "pygments_lexer": "ipython3",
   "version": "3.7.6"
  },
  "toc": {
   "nav_menu": {},
   "number_sections": true,
   "sideBar": true,
   "skip_h1_title": false,
   "toc_cell": false,
   "toc_position": {},
   "toc_section_display": "block",
   "toc_window_display": false
  },
  "varInspector": {
   "cols": {
    "lenName": 16,
    "lenType": 16,
    "lenVar": 40
   },
   "kernels_config": {
    "python": {
     "delete_cmd_postfix": "",
     "delete_cmd_prefix": "del ",
     "library": "var_list.py",
     "varRefreshCmd": "print(var_dic_list())"
    },
    "r": {
     "delete_cmd_postfix": ") ",
     "delete_cmd_prefix": "rm(",
     "library": "var_list.r",
     "varRefreshCmd": "cat(var_dic_list()) "
    }
   },
   "types_to_exclude": [
    "module",
    "function",
    "builtin_function_or_method",
    "instance",
    "_Feature"
   ],
   "window_display": false
  }
 },
 "nbformat": 4,
 "nbformat_minor": 4
}
